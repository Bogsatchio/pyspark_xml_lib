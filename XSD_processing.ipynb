{
 "cells": [
  {
   "cell_type": "code",
   "execution_count": 1,
   "id": "0391dcca-9442-4f5c-ae35-eef9d83c765a",
   "metadata": {},
   "outputs": [],
   "source": [
    "from pyspark.sql import SparkSession\n",
    "from pyspark import SparkContext\n",
    "from pyspark.sql.types import StructType, StructField, StringType, IntegerType, DecimalType, DateType, BooleanType, DoubleType, ArrayType\n",
    "import xml.etree.ElementTree as ET\n",
    "from pyspark import SparkConf\n",
    "from timeit import default_timer as timer\n",
    "from pyspark.sql.utils import AnalysisException\n",
    "import datetime\n",
    "from time import time\n",
    "from pyspark.sql.functions import col, lit\n",
    "import json"
   ]
  },
  {
   "cell_type": "code",
   "execution_count": 12,
   "id": "e1861480-6932-431f-8eb5-6900ecfe104a",
   "metadata": {},
   "outputs": [],
   "source": [
    "from xsd_functions import generate_paths_dict, create_types_dict"
   ]
  },
  {
   "cell_type": "code",
   "execution_count": 2,
   "id": "602eb497-637d-4a9b-8668-01e37dd6614f",
   "metadata": {},
   "outputs": [],
   "source": [
    "jarpath = r\"spark-xml_2.11-0.13.0.jar\"\n",
    "path_tm = r\"data/knf.tfi.TM.xsd\""
   ]
  },
  {
   "cell_type": "code",
   "execution_count": 3,
   "id": "9b11fb6f-980a-4013-8ba5-7e574b7f1456",
   "metadata": {},
   "outputs": [],
   "source": [
    "spark = SparkSession.builder \\\n",
    "    .appName(\"SparkApp\") \\\n",
    "    .config(\"spark.executor.memory\", \"8g\") \\\n",
    "    .config(\"spark.executor.memoryOverhead\", \"4g\") \\\n",
    "    .config(\"spark.driver.memory\", \"8g\") \\\n",
    "    .config(\"spark.yarn.driver.memoryOverhead\", \"4g\") \\\n",
    "    .config(\"spark.jars\",jarpath) \\\n",
    "    .enableHiveSupport().getOrCreate()"
   ]
  },
  {
   "cell_type": "markdown",
   "id": "be6d634e-0133-419a-844e-010ba7f6e4b0",
   "metadata": {},
   "source": [
    "- schema 1.1 is available publicly at: https://sprawozdawczosc.knf.gov.pl/podmioty/tfi/okresowe/tfi-tm\n",
    "- it has a pretty complex strucure as it needs some complementary subschemas with data types description"
   ]
  },
  {
   "cell_type": "code",
   "execution_count": null,
   "id": "6e0381ca-9a2b-4a83-9e55-ad6533ddda71",
   "metadata": {
    "jupyter": {
     "outputs_hidden": true
    },
    "tags": []
   },
   "outputs": [],
   "source": [
    "# xsd file is read as spark RDD\n",
    "spark_context = SparkContext.getOrCreate()\n",
    "xsd_rdd_tm = spark_context.textFile(path_tm).collect()\n",
    "xsd_rdd_tm"
   ]
  },
  {
   "cell_type": "code",
   "execution_count": 8,
   "id": "2dcfe8a4-c688-4b20-8073-52d03bb2ab7e",
   "metadata": {},
   "outputs": [],
   "source": [
    "# sub schemas are read as RDD also and boxed in a list\n",
    "tpp_p = r\"data/knf.tpp.xsd\"\n",
    "tpp_liczby_p = r\"data/knf.tpp.Liczby.xsd\"\n",
    "tpp_bool_p = r\"data/knf.tpp.WskaznikiLogiczne.xsd\"\n",
    "tpp_str_p = r\"data/knf.tpp.Teksty.xsd\"\n",
    "tpp_dt_p = r\"data/knf.tpp.Daty.xsd\"\n",
    "tpw_w_p = r\"data/knf.tpw.Waluty.xsd\"\n",
    "\n",
    "\n",
    "tpp = spark_context.textFile(tpp_p).collect()\n",
    "tpp_liczby = spark_context.textFile(tpp_liczby_p).collect()\n",
    "tpp_bool = spark_context.textFile(tpp_bool_p).collect()\n",
    "tpp_str = spark_context.textFile(tpp_str_p).collect()\n",
    "tpp_dt = spark_context.textFile(tpp_dt_p).collect()\n",
    "tpw_w = spark_context.textFile(tpw_w_p).collect()\n",
    "\n",
    "data_rdds = [tpp_liczby, tpp_bool, tpp_dt]"
   ]
  },
  {
   "cell_type": "markdown",
   "id": "efdffeea-a1cc-44f7-bc4b-d94bb289bc6b",
   "metadata": {},
   "source": [
    "- Here the create_types_dict and get_data_types functions from xsd_functions.py are used\n",
    "- product of the function is JSON file types_dict.json that contains mapping of primitive datatypes other than strings"
   ]
  },
  {
   "cell_type": "code",
   "execution_count": 9,
   "id": "e231c7bb-3a58-4ad2-9b66-da54dbf7bd21",
   "metadata": {},
   "outputs": [],
   "source": [
    "create_types_dict(data_rdds, \"types_dict.json\")"
   ]
  },
  {
   "cell_type": "code",
   "execution_count": 11,
   "id": "cb708eb0-78b8-4677-be41-054ee814614e",
   "metadata": {},
   "outputs": [
    {
     "data": {
      "text/plain": [
       "{'Liczba19.2Typ': 'xs:decimal',\n",
       " 'Liczba19.4Typ': 'xs:decimal',\n",
       " 'Liczba19.8Typ': 'xs:decimal',\n",
       " 'LiczbaNiedodatnia19.2Typ': 'xs:decimal',\n",
       " 'LiczbaNieujemna19.8Typ': 'xs:decimal',\n",
       " 'LiczbaCalkowitaNieujemna19Typ': 'xs:decimal',\n",
       " 'TechnicznyIdentyfikatorElementu': 'xs:decimal',\n",
       " 'WskaznikLogiczny0lub1Typ': 'xs:boolean',\n",
       " 'WskaznikLogicznytruelubfalseTyp': 'xs:boolean',\n",
       " 'WskaznikLogiczny0albofalseTyp': 'xs:boolean',\n",
       " 'WskaznikLogiczny1albotrueTyp': 'xs:boolean',\n",
       " 'WskaznikLogiczny0lub1albotruelubfalseTyp': 'xs:boolean',\n",
       " 'DataPrzedzial1Typ': 'xs:date',\n",
       " 'DataPrzedzial2Typ': 'xs:date',\n",
       " 'DataPrzedzial3Typ': 'xs:date'}"
      ]
     },
     "execution_count": 11,
     "metadata": {},
     "output_type": "execute_result"
    }
   ],
   "source": [
    "# reading in JSON that was created above\n",
    "xpaths_mappings = \"types_dict.json\"\n",
    "with open(xpaths_mappings, 'r') as json_file:\n",
    "    types = json.load(json_file)\n",
    "types"
   ]
  },
  {
   "cell_type": "markdown",
   "id": "9b529e72-88d9-45c0-9250-09102b9be768",
   "metadata": {},
   "source": [
    "- Here generate_paths_dict function is using get_types and build_xpaths functions from xsd_functions.py to recurrently build xpaths\n",
    "- Python's xml library is levraged here to read basic xml structure\n",
    "- The result is tm_xpaths_maping.json that mapps xpaths data points from xml file to primitive datatypes"
   ]
  },
  {
   "cell_type": "code",
   "execution_count": 18,
   "id": "c99d6a50-ffa5-4682-9ccf-86648dfe9f61",
   "metadata": {},
   "outputs": [
    {
     "data": {
      "text/plain": [
       "[('Naglowek.IdentyfikatorZarzadzajacego', 'xs:string'),\n",
       " ('Naglowek.NazwaZarzadzajacego', 'xs:string'),\n",
       " ('Naglowek.IdentyfikatorDostawcyDanych', 'xs:string'),\n",
       " ('Naglowek.WalutaSprawozdania', 'xs:string'),\n",
       " ('Naglowek.OkresSprawozdawczy.DataOd', 'xs:date')]"
      ]
     },
     "execution_count": 18,
     "metadata": {},
     "output_type": "execute_result"
    }
   ],
   "source": [
    "xpaths_dict = generate_paths_dict(\"tm_xpaths_maping.json\", \"SprawozdanieTyp\", types, xsd_rdd_tm)\n",
    "\n",
    "# showing 5 exaple entries in xpaths_dict dictionary\n",
    "list(xpaths_dict.items())[:5]"
   ]
  },
  {
   "cell_type": "markdown",
   "id": "52cfd1fd-95ab-4772-a8c8-9dc49fc0f964",
   "metadata": {},
   "source": [
    "- some complex files requires additional schemas other than just simple datatypes\n",
    "- function generate_paths_dict can accomodate that by adding optional argument as list of RDDs of subschemas"
   ]
  },
  {
   "cell_type": "code",
   "execution_count": 19,
   "id": "aabcf36b-1496-402c-94d2-cf6bcaa7f85b",
   "metadata": {},
   "outputs": [
    {
     "name": "stderr",
     "output_type": "stream",
     "text": [
      "                                                                                \r"
     ]
    }
   ],
   "source": [
    "p = r\"data/knf.fi.Lokaty.xsd\"\n",
    "p_abs = r\"data/knf.abs.Aktywa.xsd\"\n",
    "p_abs_id = r\"data/knf.abs.IdentyfikacjaSkladnika.xsd\"\n",
    "\n",
    "xsd_rdd = spark_context.textFile(p).collect()\n",
    "xsd_rdd2 = spark_context.textFile(p_abs).collect()\n",
    "xsd_rdd3 = spark_context.textFile(p_abs_id).collect()"
   ]
  },
  {
   "cell_type": "code",
   "execution_count": 24,
   "id": "dacb2b53-21b2-42dc-9363-baa723b0d9b7",
   "metadata": {},
   "outputs": [
    {
     "name": "stdout",
     "output_type": "stream",
     "text": [
      "IdentyfikacjaEmitentaTyp\n"
     ]
    },
    {
     "data": {
      "text/plain": [
       "{'Naglowek.IdentyfikatorZarzadzajacego': 'xs:string',\n",
       " 'Naglowek.NazwaZarzadzajacego': 'xs:string',\n",
       " 'Naglowek.IdentyfikatorFunduszuSubfunduszu': 'xs:string',\n",
       " 'Naglowek.NazwaFunduszuSubfunduszu': 'xs:string',\n",
       " 'Naglowek.IdentyfikatorDostawcyDanych': 'xs:string',\n",
       " 'Naglowek.DzienWyceny': 'xs:date',\n",
       " 'Naglowek.WalutaSprawozdania': 'xs:string',\n",
       " 'Naglowek.OkresSprawozdawczy.DataOd': 'xs:date',\n",
       " 'Naglowek.OkresSprawozdawczy.DataDo': 'xs:date',\n",
       " 'Naglowek.OkresSprawozdawczy.Rok': 'xs:string',\n",
       " 'Naglowek.OkresSprawozdawczy.Kwartal': 'xs:string',\n",
       " 'Naglowek.OkresSprawozdawczy.Miesiac': 'xs:string',\n",
       " 'Naglowek.CzyKorekta': 'xs:boolean',\n",
       " 'Naglowek._CzyFunduszWLikwidacji': 'xs:boolean',\n",
       " 'Dane.Aktywa.SkladnikAktywow.IdentyfikacjaSkladnika.Identyfikator': 'xs:string',\n",
       " 'Dane.Aktywa.SkladnikAktywow.IdentyfikacjaSkladnika.Nazwa': 'xs:string',\n",
       " 'Dane.Aktywa.SkladnikAktywow.IdentyfikacjaSkladnika.Specyfikacja.KategoriaAktywow': 'xs:string',\n",
       " 'Dane.Aktywa.SkladnikAktywow.IdentyfikacjaSkladnika.Specyfikacja.WalutaDenominacji': 'xs:string',\n",
       " 'Dane.Aktywa.SkladnikAktywow.IdentyfikacjaSkladnika.Specyfikacja.Termin': 'xs:date',\n",
       " 'Dane.Aktywa.SkladnikAktywow.IdentyfikacjaSkladnika.Specyfikacja.Oprocentowanie.StopaStala': 'xs:decimal',\n",
       " 'Dane.Aktywa.SkladnikAktywow.IdentyfikacjaSkladnika.Specyfikacja.Oprocentowanie.Czestotliwosc': 'xs:string',\n",
       " 'Dane.Aktywa.SkladnikAktywow.IdentyfikacjaSkladnika.Specyfikacja.Oprocentowanie.StopaBazowa': 'xs:string',\n",
       " 'Dane.Aktywa.SkladnikAktywow.IdentyfikacjaSkladnika.Specyfikacja.Oprocentowanie.IdentyfikacjaStopyBazowej': 'xs:string',\n",
       " 'Dane.Aktywa.SkladnikAktywow.IdentyfikacjaSkladnika.Specyfikacja.Oprocentowanie.Marza': 'xs:decimal',\n",
       " 'Dane.Aktywa.SkladnikAktywow.IdentyfikacjaSkladnika.Specyfikacja.Oprocentowanie.OpisOprocentowania': 'xs:string',\n",
       " 'Dane.Aktywa.SkladnikAktywow.IdentyfikacjaSkladnika.Specyfikacja.Oprocentowanie._RodzajOprocentowania': 'xs:string',\n",
       " 'Dane.Aktywa.SkladnikAktywow.IdentyfikacjaSkladnika.Specyfikacja.TypFunduszu': 'xs:string',\n",
       " 'Dane.Aktywa.SkladnikAktywow.IdentyfikacjaSkladnika.Specyfikacja.SposobRozliczenia': 'xs:string',\n",
       " 'Dane.Aktywa.SkladnikAktywow.IdentyfikacjaSkladnika.Specyfikacja.PakietPrzeksztalcony.PakietPrzedPrzeksztalceniem.Identyfikator': 'xs:string',\n",
       " 'Dane.Aktywa.SkladnikAktywow.IdentyfikacjaSkladnika.Specyfikacja.PakietPrzeksztalcony.PakietPrzedPrzeksztalceniem.Nazwa': 'xs:string',\n",
       " 'Dane.Aktywa.SkladnikAktywow.IdentyfikacjaSkladnika.Specyfikacja.PakietPrzeksztalcony._CzyPrzeksztalcony': 'xs:boolean',\n",
       " 'Dane.Aktywa.SkladnikAktywow.IdentyfikacjaSkladnika.Specyfikacja.CzyWieluPierwotnychWierzycieli': 'xs:boolean',\n",
       " 'Dane.Aktywa.SkladnikAktywow.IdentyfikacjaSkladnika.Specyfikacja.PierwotnyWierzyciel.Identyfikator': 'xs:string',\n",
       " 'Dane.Aktywa.SkladnikAktywow.IdentyfikacjaSkladnika.Specyfikacja.PierwotnyWierzyciel.Nazwa': 'xs:string',\n",
       " 'Dane.Aktywa.SkladnikAktywow.IdentyfikacjaSkladnika.Specyfikacja.PierwotnyWierzyciel.Kraj': 'xs:string',\n",
       " 'Dane.Aktywa.SkladnikAktywow.IdentyfikacjaSkladnika.Specyfikacja.BrakPrzewazajacegoPierwotnegoWierzyciela': 'xs:boolean',\n",
       " 'Dane.Aktywa.SkladnikAktywow.IdentyfikacjaSkladnika.Specyfikacja.PoczatkowaWartoscNominalna': 'xs:decimal',\n",
       " 'Dane.Aktywa.SkladnikAktywow.IdentyfikacjaSkladnika.Specyfikacja.PoczatkowaLiczba': 'xs:decimal',\n",
       " 'Dane.Aktywa.SkladnikAktywow.IdentyfikacjaSkladnika.Specyfikacja.Emitent.Identyfikator': 'xs:string',\n",
       " 'Dane.Aktywa.SkladnikAktywow.IdentyfikacjaSkladnika.Specyfikacja.Emitent.Nazwa': 'xs:string',\n",
       " 'Dane.Aktywa.SkladnikAktywow.IdentyfikacjaSkladnika.Specyfikacja.Emitent.Kraj': 'xs:string',\n",
       " 'Dane.Aktywa.SkladnikAktywow.IdentyfikacjaSkladnika.Specyfikacja.Kontrahent.Identyfikator': 'xs:string',\n",
       " 'Dane.Aktywa.SkladnikAktywow.IdentyfikacjaSkladnika.Specyfikacja.Kontrahent.Nazwa': 'xs:string',\n",
       " 'Dane.Aktywa.SkladnikAktywow.IdentyfikacjaSkladnika.Specyfikacja.Kontrahent.Kraj': 'xs:string',\n",
       " 'Dane.Aktywa.SkladnikAktywow.IdentyfikacjaSkladnika.Specyfikacja.InstrumentBazowy.Identyfikacja': 'xs:string',\n",
       " 'Dane.Aktywa.SkladnikAktywow.IdentyfikacjaSkladnika.Specyfikacja.InstrumentBazowy.Waluta': 'xs:string',\n",
       " 'Dane.Aktywa.SkladnikAktywow.IdentyfikacjaSkladnika.Specyfikacja.InstrumentBazowy.StopaProcentowa': 'xs:string',\n",
       " 'Dane.Aktywa.SkladnikAktywow.IdentyfikacjaSkladnika.Specyfikacja.InstrumentBazowy.Indeks': 'xs:string',\n",
       " 'Dane.Aktywa.SkladnikAktywow.IdentyfikacjaSkladnika.Specyfikacja.InstrumentBazowy.ObligacjaBazowa': 'xs:string',\n",
       " 'Dane.Aktywa.SkladnikAktywow.IdentyfikacjaSkladnika.Specyfikacja.InstrumentBazowy.Towar': 'xs:string',\n",
       " 'Dane.Aktywa.SkladnikAktywow.IdentyfikacjaSkladnika.Specyfikacja.InstrumentBazowy.Opis': 'xs:string',\n",
       " 'Dane.Aktywa.SkladnikAktywow.IdentyfikacjaSkladnika.Specyfikacja.InstrumentBazowy.Pozycja': 'xs:string',\n",
       " 'Dane.Aktywa.SkladnikAktywow.IdentyfikacjaSkladnika.Specyfikacja.InstrumentBazowy.Wartosc': 'xs:decimal',\n",
       " 'Dane.Aktywa.SkladnikAktywow.IdentyfikacjaSkladnika.Specyfikacja.DataNabycia': 'xs:date',\n",
       " 'Dane.Aktywa.SkladnikAktywow.IdentyfikacjaSkladnika.Specyfikacja.WartoscNabycia': 'xs:decimal',\n",
       " 'Dane.Aktywa.SkladnikAktywow.IdentyfikacjaSkladnika.Specyfikacja.Adres.Kraj': 'xs:string',\n",
       " 'Dane.Aktywa.SkladnikAktywow.IdentyfikacjaSkladnika.Specyfikacja.Adres.Wojewodztwo': 'xs:string',\n",
       " 'Dane.Aktywa.SkladnikAktywow.IdentyfikacjaSkladnika.Specyfikacja.Adres.Miejscowosc': 'xs:string',\n",
       " 'Dane.Aktywa.SkladnikAktywow.IdentyfikacjaSkladnika.Specyfikacja.Adres.UlicaiNumer': 'xs:string',\n",
       " 'Dane.Aktywa.SkladnikAktywow.IdentyfikacjaSkladnika.Specyfikacja.Obciazenia.RodzajObciazenia': 'xs:string',\n",
       " 'Dane.Aktywa.SkladnikAktywow.IdentyfikacjaSkladnika.Specyfikacja.Obciazenia.LacznaWartoscHipotek': 'xs:decimal',\n",
       " 'Dane.Aktywa.SkladnikAktywow.IdentyfikacjaSkladnika.Specyfikacja.BrakObciazen': 'xs:boolean',\n",
       " 'Dane.Aktywa.SkladnikAktywow.Liczba': 'xs:decimal',\n",
       " 'Dane.Aktywa.SkladnikAktywow.WartoscNominalna': 'xs:decimal',\n",
       " 'Dane.Aktywa.SkladnikAktywow.WartoscNabycia': 'xs:decimal',\n",
       " 'Dane.Aktywa.SkladnikAktywow.WartoscWyceny': 'xs:decimal',\n",
       " 'Dane.Aktywa.SkladnikAktywow.MetodaWyceny': 'xs:string',\n",
       " 'Dane.Aktywa.SkladnikAktywow.RynekWyceny': 'xs:string',\n",
       " 'Dane.Aktywa.SkladnikAktywow.OpisMetodyWyceny': 'xs:string',\n",
       " 'Dane.Aktywa.SkladnikAktywow.WartoscOprocentowania': 'xs:decimal',\n",
       " 'Dane.Aktywa.SkladnikAktywow.LiczbaZastawionych': 'xs:decimal',\n",
       " 'Dane.Aktywa.SkladnikAktywow.LiczbaPozyczonych': 'xs:decimal',\n",
       " 'Dane.Aktywa.SkladnikAktywow.OdsetkiNarosle': 'xs:decimal',\n",
       " 'Dane.Aktywa.SkladnikAktywow.UdzialGlosow': 'xs:string',\n",
       " 'Dane.Aktywa.SkladnikAktywow.CelZlozonegoDepozytu': 'xs:string',\n",
       " 'Dane.Aktywa.SkladnikAktywow.CelZawarciaTransakcji': 'xs:string',\n",
       " 'Dane.Aktywa.SkladnikAktywow.KwotaZaangazowania': 'xs:decimal',\n",
       " 'Dane.Aktywa.SkladnikAktywow.WartoscZabezpieczeniaPozyczki': 'xs:decimal',\n",
       " 'Dane.Aktywa.SkladnikAktywow.Splaty.WartoscSplat': 'xs:decimal',\n",
       " 'Dane.Aktywa.SkladnikAktywow.Splaty.Koszty': 'xs:decimal',\n",
       " 'Dane.Aktywa.SkladnikAktywow.DataNabycia': 'xs:date',\n",
       " 'Dane.Aktywa.SkladnikAktywow.DodatkoweWyjasnienia': 'xs:string',\n",
       " 'Dane.Aktywa.SkladnikAktywow.UdzialAktywa': 'xs:decimal',\n",
       " 'Dane.Aktywa._GrupaAktywow': 'xs:string',\n",
       " 'Dane.BrakAktywow': 'xs:boolean'}"
      ]
     },
     "execution_count": 24,
     "metadata": {},
     "output_type": "execute_result"
    }
   ],
   "source": [
    "xpaths_dict = generate_paths_dict(\"tm_xpaths_maping.json\", \"SprawozdanieTyp\", types, xsd_rdd, [xsd_rdd2, xsd_rdd3])\n",
    "xpaths_dict"
   ]
  },
  {
   "cell_type": "code",
   "execution_count": null,
   "id": "72b25e4e-ec78-430f-af8c-4a710248a14d",
   "metadata": {},
   "outputs": [],
   "source": []
  }
 ],
 "metadata": {
  "kernelspec": {
   "display_name": "Python 3 (ipykernel)",
   "language": "python",
   "name": "python3"
  },
  "language_info": {
   "codemirror_mode": {
    "name": "ipython",
    "version": 3
   },
   "file_extension": ".py",
   "mimetype": "text/x-python",
   "name": "python",
   "nbconvert_exporter": "python",
   "pygments_lexer": "ipython3",
   "version": "3.10.9"
  }
 },
 "nbformat": 4,
 "nbformat_minor": 5
}
