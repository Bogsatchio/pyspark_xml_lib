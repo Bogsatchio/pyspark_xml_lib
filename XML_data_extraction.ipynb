{
 "cells": [
  {
   "cell_type": "code",
   "execution_count": 1,
   "id": "7fb0fa34-b888-4272-aeee-c10883506ca2",
   "metadata": {},
   "outputs": [],
   "source": [
    "import pandas as pd\n",
    "from pyspark.sql import SparkSession\n",
    "from pyspark.sql.functions import col, when, size\n",
    "from pyspark.sql.functions import first, lit, explode\n",
    "from pyspark.sql.types import StructType, StructField, StringType, ArrayType, DoubleType, StructType, StructField, BooleanType, LongType, IntegerType, DateType, TimestampType\n",
    "from pyspark.sql.functions import explode\n",
    "import json\n",
    "import xmlschema\n",
    "from pyspark.sql.functions import udf\n",
    "from pyspark.sql import functions as F\n",
    "from pyspark.sql.functions import explode\n",
    "from pyspark.sql.functions import monotonically_increasing_id\n",
    "from pyspark.sql.window import Window\n",
    "from pyspark.sql.functions import row_number\n",
    "import uuid"
   ]
  },
  {
   "cell_type": "code",
   "execution_count": 2,
   "id": "73e3fcdf-b834-4c00-aa14-77c0a19acc87",
   "metadata": {},
   "outputs": [],
   "source": [
    "from xsd_functions import generate_schema_from_xpaths"
   ]
  },
  {
   "cell_type": "code",
   "execution_count": 11,
   "id": "1fefdffd-0309-4495-b4a7-06e87d8dd2db",
   "metadata": {},
   "outputs": [
    {
     "data": {
      "text/plain": [
       "[('Naglowek.IdentyfikatorZarzadzajacego', 'xs:string'),\n",
       " ('Naglowek.NazwaZarzadzajacego', 'xs:string'),\n",
       " ('Naglowek.IdentyfikatorDostawcyDanych', 'xs:string'),\n",
       " ('Naglowek.WalutaSprawozdania', 'xs:string'),\n",
       " ('Naglowek.OkresSprawozdawczy.DataOd', 'xs:date')]"
      ]
     },
     "execution_count": 11,
     "metadata": {},
     "output_type": "execute_result"
    }
   ],
   "source": [
    "jarpath = r\"spark-xml_2.11-0.13.0.jar\"\n",
    "xml_path = r\"data/TM_PLTFI000000_PLTFI000000_202401_0.xml\"\n",
    "\n",
    "xpaths_mappings = r\"tm_xpaths_maping.json\"\n",
    "with open(xpaths_mappings, 'r') as json_file:\n",
    "    mapping = json.load(json_file)\n",
    "\n",
    "# showing 5 exaple entries in maping dictionary\n",
    "list(mapping.items())[:5]"
   ]
  },
  {
   "cell_type": "markdown",
   "id": "d794b226-3069-4767-9f65-9d78697197f3",
   "metadata": {},
   "source": [
    "### Based on generated xpaths from JSON file the function is able to create pyspark schema that can be used to read in full xml structure based on XSD file"
   ]
  },
  {
   "cell_type": "code",
   "execution_count": 4,
   "id": "e6bcf3dd-71f9-4d79-8b34-17dfea957dc2",
   "metadata": {},
   "outputs": [
    {
     "data": {
      "text/plain": [
       "StructType(List(StructField(Naglowek,StructType(List(StructField(IdentyfikatorZarzadzajacego,StringType,true),StructField(NazwaZarzadzajacego,StringType,true),StructField(IdentyfikatorDostawcyDanych,StringType,true),StructField(WalutaSprawozdania,StringType,true),StructField(OkresSprawozdawczy,StructType(List(StructField(DataOd,DateType,true),StructField(DataDo,DateType,true),StructField(Rok,StringType,true),StructField(Miesiac,StringType,true))),true),StructField(CzyKorekta,BooleanType,true),StructField(_CzyFunduszWLikwidacji,BooleanType,true))),true),StructField(Dane,StructType(List(StructField(Aktywa,StructType(List(StructField(SrodkiPieniezne,DoubleType,true),StructField(PapieryWartoscioweSkarbPanstwaNBP,DoubleType,true),StructField(Naleznosci,StructType(List(StructField(FunduszeInwestycyjne,StructType(List(StructField(Nieprzeterminowane,DoubleType,true),StructField(PrzeterminowaneDo30Dni,DoubleType,true),StructField(PrzeterminowaneOd31Do90Dni,DoubleType,true),StructField(PrzeterminowaneOd91Do180Dni,DoubleType,true),StructField(PrzeterminowaneOd181Do360Dni,DoubleType,true),StructField(PrzeterminowanePowyzej360Dni,DoubleType,true),StructField(_FunduszeInwestycyjneOgolem,DoubleType,true))),true),StructField(Pozostale,StructType(List(StructField(Nieprzeterminowane,DoubleType,true),StructField(PrzeterminowaneDo30Dni,DoubleType,true),StructField(PrzeterminowaneOd31Do90Dni,DoubleType,true),StructField(PrzeterminowaneOd91Do180Dni,DoubleType,true),StructField(PrzeterminowaneOd181Do360Dni,DoubleType,true),StructField(PrzeterminowanePowyzej360Dni,DoubleType,true),StructField(_PozostaleOgolem,DoubleType,true))),true),StructField(_NaleznosciOgolem,DoubleType,true))),true),StructField(UdzialyIAkcjeSpolek,DoubleType,true),StructField(JednostkiUczestnictwa,DoubleType,true),StructField(CertyfikatyInwestycyjne,DoubleType,true),StructField(TytulyUczestnictwaZbiorczePortfele,DoubleType,true),StructField(AkcjeWlasne,DoubleType,true),StructField(Wierzytelnosci,DoubleType,true),StructField(NaleznosciZTytuluWierzytelnosci,DoubleType,true),StructField(_AktywaOgolem,DoubleType,true))),true),StructField(KapitalWlasny,StructType(List(StructField(MinimalnyWymaganyKapitalWlasny,StructType(List(StructField(Art50Ust1,DoubleType,true),StructField(Art50Ust1Ust4aPkt1,DoubleType,true),StructField(Art50Ust2Ust3i4a,StructType(List(StructField(MinimalnyKapitalWlasnyKursEuro,DoubleType,true),StructField(ZwiekszenieKapitaluWlasnego,DoubleType,true),StructField(KwotaDodatkowa,DoubleType,true),StructField(_Art50Ust2Ust3i4aOgolem,DoubleType,true))),true))),true),StructField(KursEuro,DoubleType,true),StructField(SumaUbezpieczeniaPojedynczeRoszczenie,DoubleType,true),StructField(SumaUbezpieczeniaWszystkieRoszczenia,DoubleType,true),StructField(NadwyzkaMinimalnegoKapitaluWlasnego,DoubleType,true),StructField(KapitalWlasny,StructType(List(StructField(WynikFinansowyNetto,DoubleType,true),StructField(KapitalZakladowy,DoubleType,true),StructField(KapitalZapasowy,DoubleType,true),StructField(PozostaleKapitalyRezerwowe,DoubleType,true),StructField(KapitalZAktualizacjiWyceny,DoubleType,true),StructField(ZyskStrataZLatUbieglych,DoubleType,true),StructField(OdpisyZyskuNetto,DoubleType,true),StructField(_KapitalWlasnyOgolem,DoubleType,true))),true))),true),StructField(Zobowiazania,StructType(List(StructField(ZobowiazaniaPodmioty,StructType(List(StructField(FunduszeInwestycyjne,DoubleType,true),StructField(UczestnicyFunduszyInwestycyjnych,DoubleType,true),StructField(Akcjonariusze,StructType(List(StructField(Dywidendy,DoubleType,true),StructField(_AkcjonariuszeOgolem,DoubleType,true))),true),StructField(PodmiotyZarzadzaniePortfelami,DoubleType,true),StructField(PodmiotyDystrybucjaJednostek,DoubleType,true))),true),StructField(ZobowiazaniaPrzeterminowane,DoubleType,true),StructField(_ZobowiazaniaOgolem,DoubleType,true))),true),StructField(PozyczkiKredyty,StructType(List(StructField(PozyczkiKredytyBezEmisjiObligacji,DoubleType,true),StructField(ZobowiazaniaEmisjaObligacji,DoubleType,true),StructField(PoreczeniaFunduszuWierzytelnosci,DoubleType,true))),true),StructField(PrzychodyKoszty,StructType(List(StructField(Przychody,StructType(List(StructField(ZarzadzanieFunduszami,StructType(List(StructField(FIO,DoubleType,true),StructField(SFIO,DoubleType,true),StructField(FIZ,DoubleType,true),StructField(FunduszeZagraniczne,DoubleType,true),StructField(UnijneAFI,DoubleType,true),StructField(_ZarzadzanieFunduszamiOgolem,DoubleType,true))),true),StructField(ZarzadzanieZbiorczymiPortfelamiPapierowWartosciowych,DoubleType,true),StructField(ZarzadzaniePortfelamiInstrumentyFinansowe,DoubleType,true),StructField(DoradztwoInwestycyjne,DoubleType,true),StructField(NabycieZbycieInstrumentowFinansowych,DoubleType,true),StructField(PosrednictwoNabycieZbycieJUCIWlasne,DoubleType,true),StructField(PosrednictwoNabycieZbycieJUCIInneTFI,DoubleType,true),StructField(PosrednictwoNabycieZbycieJUCIFunduszyZagranicznych,DoubleType,true),StructField(PrzedstawicielstwoFunduszyZagranicznych,DoubleType,true),StructField(LikwidatorFunduszyInwestycyjnych,DoubleType,true),StructField(Odsetki,DoubleType,true),StructField(_PrzychodyOgolem,DoubleType,true))),true),StructField(Koszty,StructType(List(StructField(KosztyStale,DoubleType,true),StructField(KosztyZmienne,StructType(List(StructField(Dystrybucja,StructType(List(StructField(RealizacjaZlecenNabyciaZbyciaJUCI,DoubleType,true),StructField(WynagrodzenieDystrybutorow,DoubleType,true),StructField(MarketingFunduszu,DoubleType,true),StructField(_DystrybucjaOgolem,DoubleType,true))),true),StructField(_KosztyZmienneOgolem,DoubleType,true))),true),StructField(_KosztyOgolem,DoubleType,true))),true))),true),StructField(DaneUzupelniajace,StructType(List(StructField(AktywaZarzadzanychFunduszy,DoubleType,true),StructField(AktywaZarzadzanychFunduszyZagranicznych,DoubleType,true),StructField(AktywaZarzadzanychUnijnychAFI,DoubleType,true),StructField(AktywaZarzadzanychZbiorczychPortfeliPapierowWartosciowych,DoubleType,true),StructField(AktywaZarzadzanychPortfeliInstrumentyFinansowe,StructType(List(StructField(InwestycjeWlasneJUCI,DoubleType,true),StructField(_AktywaZarzadzanychPortfeliInstrumentyFinansoweOgolem,DoubleType,true))),true),StructField(AktywaFunduszyWLikwidacji,DoubleType,true),StructField(PortfeleZarzadzanychAFI,StructType(List(StructField(DataPortfeliZarzadzanychAFI,DateType,true),StructField(_PortfeleZarzadzanychAFIOgolem,DoubleType,true))),true),StructField(_ZarzadzaneAktywa,StringType,true))),true))),true)))"
      ]
     },
     "execution_count": 4,
     "metadata": {},
     "output_type": "execute_result"
    }
   ],
   "source": [
    "schema = generate_schema_from_xpaths(mapping)\n",
    "schema"
   ]
  },
  {
   "cell_type": "code",
   "execution_count": 5,
   "id": "2373b352-f4d2-48a6-a899-fd17afc1cafa",
   "metadata": {},
   "outputs": [],
   "source": [
    "spark = SparkSession.builder \\\n",
    "    .appName(\"SparkApp\") \\\n",
    "    .config(\"spark.executor.memory\", \"8g\") \\\n",
    "    .config(\"spark.executor.memoryOverhead\", \"4g\") \\\n",
    "    .config(\"spark.driver.memory\", \"8g\") \\\n",
    "    .config(\"spark.yarn.driver.memoryOverhead\", \"4g\") \\\n",
    "    .config(\"spark.jars\",jarpath) \\\n",
    "    .enableHiveSupport().getOrCreate()"
   ]
  },
  {
   "cell_type": "markdown",
   "id": "6bbe8726-a3de-4254-859b-c517b185eaee",
   "metadata": {},
   "source": [
    "### First simple reading of XML file into semi structured pyspark dataframe"
   ]
  },
  {
   "cell_type": "code",
   "execution_count": 12,
   "id": "18137231-bb56-45da-b292-2b5c97973d80",
   "metadata": {},
   "outputs": [
    {
     "name": "stderr",
     "output_type": "stream",
     "text": [
      "[Stage 0:>                                                          (0 + 1) / 1]"
     ]
    },
    {
     "name": "stdout",
     "output_type": "stream",
     "text": [
      "+--------------------+--------------------+\n",
      "|            Naglowek|                Dane|\n",
      "+--------------------+--------------------+\n",
      "|[PLTFI000000, Naz...|[[1.6456286432E8,...|\n",
      "+--------------------+--------------------+\n",
      "\n"
     ]
    },
    {
     "name": "stderr",
     "output_type": "stream",
     "text": [
      "                                                                                \r"
     ]
    }
   ],
   "source": [
    "df = spark.read.format(\"com.databricks.spark.xml\").option(\"rowTag\", \"Sprawozdanie\").schema(schema).load(xml_path)\n",
    "df.show()"
   ]
  },
  {
   "cell_type": "code",
   "execution_count": 13,
   "id": "f0b3f04b-c1a3-44ed-b130-c09cda2bca3e",
   "metadata": {
    "collapsed": true,
    "jupyter": {
     "outputs_hidden": true
    },
    "tags": []
   },
   "outputs": [
    {
     "name": "stdout",
     "output_type": "stream",
     "text": [
      "root\n",
      " |-- Naglowek: struct (nullable = true)\n",
      " |    |-- IdentyfikatorZarzadzajacego: string (nullable = true)\n",
      " |    |-- NazwaZarzadzajacego: string (nullable = true)\n",
      " |    |-- IdentyfikatorDostawcyDanych: string (nullable = true)\n",
      " |    |-- WalutaSprawozdania: string (nullable = true)\n",
      " |    |-- OkresSprawozdawczy: struct (nullable = true)\n",
      " |    |    |-- DataOd: date (nullable = true)\n",
      " |    |    |-- DataDo: date (nullable = true)\n",
      " |    |    |-- Rok: string (nullable = true)\n",
      " |    |    |-- Miesiac: string (nullable = true)\n",
      " |    |-- CzyKorekta: boolean (nullable = true)\n",
      " |    |-- _CzyFunduszWLikwidacji: boolean (nullable = true)\n",
      " |-- Dane: struct (nullable = true)\n",
      " |    |-- Aktywa: struct (nullable = true)\n",
      " |    |    |-- SrodkiPieniezne: double (nullable = true)\n",
      " |    |    |-- PapieryWartoscioweSkarbPanstwaNBP: double (nullable = true)\n",
      " |    |    |-- Naleznosci: struct (nullable = true)\n",
      " |    |    |    |-- FunduszeInwestycyjne: struct (nullable = true)\n",
      " |    |    |    |    |-- Nieprzeterminowane: double (nullable = true)\n",
      " |    |    |    |    |-- PrzeterminowaneDo30Dni: double (nullable = true)\n",
      " |    |    |    |    |-- PrzeterminowaneOd31Do90Dni: double (nullable = true)\n",
      " |    |    |    |    |-- PrzeterminowaneOd91Do180Dni: double (nullable = true)\n",
      " |    |    |    |    |-- PrzeterminowaneOd181Do360Dni: double (nullable = true)\n",
      " |    |    |    |    |-- PrzeterminowanePowyzej360Dni: double (nullable = true)\n",
      " |    |    |    |    |-- _FunduszeInwestycyjneOgolem: double (nullable = true)\n",
      " |    |    |    |-- Pozostale: struct (nullable = true)\n",
      " |    |    |    |    |-- Nieprzeterminowane: double (nullable = true)\n",
      " |    |    |    |    |-- PrzeterminowaneDo30Dni: double (nullable = true)\n",
      " |    |    |    |    |-- PrzeterminowaneOd31Do90Dni: double (nullable = true)\n",
      " |    |    |    |    |-- PrzeterminowaneOd91Do180Dni: double (nullable = true)\n",
      " |    |    |    |    |-- PrzeterminowaneOd181Do360Dni: double (nullable = true)\n",
      " |    |    |    |    |-- PrzeterminowanePowyzej360Dni: double (nullable = true)\n",
      " |    |    |    |    |-- _PozostaleOgolem: double (nullable = true)\n",
      " |    |    |    |-- _NaleznosciOgolem: double (nullable = true)\n",
      " |    |    |-- UdzialyIAkcjeSpolek: double (nullable = true)\n",
      " |    |    |-- JednostkiUczestnictwa: double (nullable = true)\n",
      " |    |    |-- CertyfikatyInwestycyjne: double (nullable = true)\n",
      " |    |    |-- TytulyUczestnictwaZbiorczePortfele: double (nullable = true)\n",
      " |    |    |-- AkcjeWlasne: double (nullable = true)\n",
      " |    |    |-- Wierzytelnosci: double (nullable = true)\n",
      " |    |    |-- NaleznosciZTytuluWierzytelnosci: double (nullable = true)\n",
      " |    |    |-- _AktywaOgolem: double (nullable = true)\n",
      " |    |-- KapitalWlasny: struct (nullable = true)\n",
      " |    |    |-- MinimalnyWymaganyKapitalWlasny: struct (nullable = true)\n",
      " |    |    |    |-- Art50Ust1: double (nullable = true)\n",
      " |    |    |    |-- Art50Ust1Ust4aPkt1: double (nullable = true)\n",
      " |    |    |    |-- Art50Ust2Ust3i4a: struct (nullable = true)\n",
      " |    |    |    |    |-- MinimalnyKapitalWlasnyKursEuro: double (nullable = true)\n",
      " |    |    |    |    |-- ZwiekszenieKapitaluWlasnego: double (nullable = true)\n",
      " |    |    |    |    |-- KwotaDodatkowa: double (nullable = true)\n",
      " |    |    |    |    |-- _Art50Ust2Ust3i4aOgolem: double (nullable = true)\n",
      " |    |    |-- KursEuro: double (nullable = true)\n",
      " |    |    |-- SumaUbezpieczeniaPojedynczeRoszczenie: double (nullable = true)\n",
      " |    |    |-- SumaUbezpieczeniaWszystkieRoszczenia: double (nullable = true)\n",
      " |    |    |-- NadwyzkaMinimalnegoKapitaluWlasnego: double (nullable = true)\n",
      " |    |    |-- KapitalWlasny: struct (nullable = true)\n",
      " |    |    |    |-- WynikFinansowyNetto: double (nullable = true)\n",
      " |    |    |    |-- KapitalZakladowy: double (nullable = true)\n",
      " |    |    |    |-- KapitalZapasowy: double (nullable = true)\n",
      " |    |    |    |-- PozostaleKapitalyRezerwowe: double (nullable = true)\n",
      " |    |    |    |-- KapitalZAktualizacjiWyceny: double (nullable = true)\n",
      " |    |    |    |-- ZyskStrataZLatUbieglych: double (nullable = true)\n",
      " |    |    |    |-- OdpisyZyskuNetto: double (nullable = true)\n",
      " |    |    |    |-- _KapitalWlasnyOgolem: double (nullable = true)\n",
      " |    |-- Zobowiazania: struct (nullable = true)\n",
      " |    |    |-- ZobowiazaniaPodmioty: struct (nullable = true)\n",
      " |    |    |    |-- FunduszeInwestycyjne: double (nullable = true)\n",
      " |    |    |    |-- UczestnicyFunduszyInwestycyjnych: double (nullable = true)\n",
      " |    |    |    |-- Akcjonariusze: struct (nullable = true)\n",
      " |    |    |    |    |-- Dywidendy: double (nullable = true)\n",
      " |    |    |    |    |-- _AkcjonariuszeOgolem: double (nullable = true)\n",
      " |    |    |    |-- PodmiotyZarzadzaniePortfelami: double (nullable = true)\n",
      " |    |    |    |-- PodmiotyDystrybucjaJednostek: double (nullable = true)\n",
      " |    |    |-- ZobowiazaniaPrzeterminowane: double (nullable = true)\n",
      " |    |    |-- _ZobowiazaniaOgolem: double (nullable = true)\n",
      " |    |-- PozyczkiKredyty: struct (nullable = true)\n",
      " |    |    |-- PozyczkiKredytyBezEmisjiObligacji: double (nullable = true)\n",
      " |    |    |-- ZobowiazaniaEmisjaObligacji: double (nullable = true)\n",
      " |    |    |-- PoreczeniaFunduszuWierzytelnosci: double (nullable = true)\n",
      " |    |-- PrzychodyKoszty: struct (nullable = true)\n",
      " |    |    |-- Przychody: struct (nullable = true)\n",
      " |    |    |    |-- ZarzadzanieFunduszami: struct (nullable = true)\n",
      " |    |    |    |    |-- FIO: double (nullable = true)\n",
      " |    |    |    |    |-- SFIO: double (nullable = true)\n",
      " |    |    |    |    |-- FIZ: double (nullable = true)\n",
      " |    |    |    |    |-- FunduszeZagraniczne: double (nullable = true)\n",
      " |    |    |    |    |-- UnijneAFI: double (nullable = true)\n",
      " |    |    |    |    |-- _ZarzadzanieFunduszamiOgolem: double (nullable = true)\n",
      " |    |    |    |-- ZarzadzanieZbiorczymiPortfelamiPapierowWartosciowych: double (nullable = true)\n",
      " |    |    |    |-- ZarzadzaniePortfelamiInstrumentyFinansowe: double (nullable = true)\n",
      " |    |    |    |-- DoradztwoInwestycyjne: double (nullable = true)\n",
      " |    |    |    |-- NabycieZbycieInstrumentowFinansowych: double (nullable = true)\n",
      " |    |    |    |-- PosrednictwoNabycieZbycieJUCIWlasne: double (nullable = true)\n",
      " |    |    |    |-- PosrednictwoNabycieZbycieJUCIInneTFI: double (nullable = true)\n",
      " |    |    |    |-- PosrednictwoNabycieZbycieJUCIFunduszyZagranicznych: double (nullable = true)\n",
      " |    |    |    |-- PrzedstawicielstwoFunduszyZagranicznych: double (nullable = true)\n",
      " |    |    |    |-- LikwidatorFunduszyInwestycyjnych: double (nullable = true)\n",
      " |    |    |    |-- Odsetki: double (nullable = true)\n",
      " |    |    |    |-- _PrzychodyOgolem: double (nullable = true)\n",
      " |    |    |-- Koszty: struct (nullable = true)\n",
      " |    |    |    |-- KosztyStale: double (nullable = true)\n",
      " |    |    |    |-- KosztyZmienne: struct (nullable = true)\n",
      " |    |    |    |    |-- Dystrybucja: struct (nullable = true)\n",
      " |    |    |    |    |    |-- RealizacjaZlecenNabyciaZbyciaJUCI: double (nullable = true)\n",
      " |    |    |    |    |    |-- WynagrodzenieDystrybutorow: double (nullable = true)\n",
      " |    |    |    |    |    |-- MarketingFunduszu: double (nullable = true)\n",
      " |    |    |    |    |    |-- _DystrybucjaOgolem: double (nullable = true)\n",
      " |    |    |    |    |-- _KosztyZmienneOgolem: double (nullable = true)\n",
      " |    |    |    |-- _KosztyOgolem: double (nullable = true)\n",
      " |    |-- DaneUzupelniajace: struct (nullable = true)\n",
      " |    |    |-- AktywaZarzadzanychFunduszy: double (nullable = true)\n",
      " |    |    |-- AktywaZarzadzanychFunduszyZagranicznych: double (nullable = true)\n",
      " |    |    |-- AktywaZarzadzanychUnijnychAFI: double (nullable = true)\n",
      " |    |    |-- AktywaZarzadzanychZbiorczychPortfeliPapierowWartosciowych: double (nullable = true)\n",
      " |    |    |-- AktywaZarzadzanychPortfeliInstrumentyFinansowe: struct (nullable = true)\n",
      " |    |    |    |-- InwestycjeWlasneJUCI: double (nullable = true)\n",
      " |    |    |    |-- _AktywaZarzadzanychPortfeliInstrumentyFinansoweOgolem: double (nullable = true)\n",
      " |    |    |-- AktywaFunduszyWLikwidacji: double (nullable = true)\n",
      " |    |    |-- PortfeleZarzadzanychAFI: struct (nullable = true)\n",
      " |    |    |    |-- DataPortfeliZarzadzanychAFI: date (nullable = true)\n",
      " |    |    |    |-- _PortfeleZarzadzanychAFIOgolem: double (nullable = true)\n",
      " |    |    |-- _ZarzadzaneAktywa: string (nullable = true)\n",
      "\n"
     ]
    }
   ],
   "source": [
    "# schema of the dataframe\n",
    "df.printSchema()"
   ]
  },
  {
   "cell_type": "code",
   "execution_count": 17,
   "id": "6b1a2934-eef8-4647-ba2e-228b11fcec41",
   "metadata": {},
   "outputs": [
    {
     "data": {
      "text/html": [
       "<div>\n",
       "<style scoped>\n",
       "    .dataframe tbody tr th:only-of-type {\n",
       "        vertical-align: middle;\n",
       "    }\n",
       "\n",
       "    .dataframe tbody tr th {\n",
       "        vertical-align: top;\n",
       "    }\n",
       "\n",
       "    .dataframe thead th {\n",
       "        text-align: right;\n",
       "    }\n",
       "</style>\n",
       "<table border=\"1\" class=\"dataframe\">\n",
       "  <thead>\n",
       "    <tr style=\"text-align: right;\">\n",
       "      <th></th>\n",
       "      <th>IdentyfikatorZarzadzajacego</th>\n",
       "      <th>NazwaZarzadzajacego</th>\n",
       "      <th>IdentyfikatorDostawcyDanych</th>\n",
       "      <th>WalutaSprawozdania</th>\n",
       "      <th>DataOd</th>\n",
       "      <th>DataDo</th>\n",
       "      <th>Rok</th>\n",
       "      <th>Miesiac</th>\n",
       "      <th>CzyKorekta</th>\n",
       "      <th>_CzyFunduszWLikwidacji</th>\n",
       "      <th>...</th>\n",
       "      <th>AktywaZarzadzanychFunduszy</th>\n",
       "      <th>AktywaZarzadzanychFunduszyZagranicznych</th>\n",
       "      <th>AktywaZarzadzanychUnijnychAFI</th>\n",
       "      <th>AktywaZarzadzanychZbiorczychPortfeliPapierowWartosciowych</th>\n",
       "      <th>InwestycjeWlasneJUCI</th>\n",
       "      <th>_AktywaZarzadzanychPortfeliInstrumentyFinansoweOgolem</th>\n",
       "      <th>AktywaFunduszyWLikwidacji</th>\n",
       "      <th>DataPortfeliZarzadzanychAFI</th>\n",
       "      <th>_PortfeleZarzadzanychAFIOgolem</th>\n",
       "      <th>_ZarzadzaneAktywa</th>\n",
       "    </tr>\n",
       "  </thead>\n",
       "  <tbody>\n",
       "    <tr>\n",
       "      <th>0</th>\n",
       "      <td>PLTFI000000</td>\n",
       "      <td>Nazwa zarządzającego</td>\n",
       "      <td>PLTFI000000</td>\n",
       "      <td>PLN</td>\n",
       "      <td>2024-01-01</td>\n",
       "      <td>2024-01-31</td>\n",
       "      <td>2024</td>\n",
       "      <td>01</td>\n",
       "      <td>False</td>\n",
       "      <td>None</td>\n",
       "      <td>...</td>\n",
       "      <td>4.068231e+09</td>\n",
       "      <td>0.0</td>\n",
       "      <td>0.0</td>\n",
       "      <td>0.0</td>\n",
       "      <td>0.0</td>\n",
       "      <td>0.0</td>\n",
       "      <td>0.0</td>\n",
       "      <td>2023-06-30</td>\n",
       "      <td>100000.0</td>\n",
       "      <td>4069231027.26</td>\n",
       "    </tr>\n",
       "  </tbody>\n",
       "</table>\n",
       "<p>1 rows × 98 columns</p>\n",
       "</div>"
      ],
      "text/plain": [
       "  IdentyfikatorZarzadzajacego   NazwaZarzadzajacego  \\\n",
       "0                 PLTFI000000  Nazwa zarządzającego   \n",
       "\n",
       "  IdentyfikatorDostawcyDanych WalutaSprawozdania      DataOd      DataDo  \\\n",
       "0                 PLTFI000000                PLN  2024-01-01  2024-01-31   \n",
       "\n",
       "    Rok Miesiac  CzyKorekta _CzyFunduszWLikwidacji  ...  \\\n",
       "0  2024      01       False                   None  ...   \n",
       "\n",
       "   AktywaZarzadzanychFunduszy  AktywaZarzadzanychFunduszyZagranicznych  \\\n",
       "0                4.068231e+09                                      0.0   \n",
       "\n",
       "   AktywaZarzadzanychUnijnychAFI  \\\n",
       "0                            0.0   \n",
       "\n",
       "   AktywaZarzadzanychZbiorczychPortfeliPapierowWartosciowych  \\\n",
       "0                                                0.0           \n",
       "\n",
       "   InwestycjeWlasneJUCI  \\\n",
       "0                   0.0   \n",
       "\n",
       "   _AktywaZarzadzanychPortfeliInstrumentyFinansoweOgolem  \\\n",
       "0                                                0.0       \n",
       "\n",
       "   AktywaFunduszyWLikwidacji  DataPortfeliZarzadzanychAFI  \\\n",
       "0                        0.0                   2023-06-30   \n",
       "\n",
       "   _PortfeleZarzadzanychAFIOgolem  _ZarzadzaneAktywa  \n",
       "0                        100000.0      4069231027.26  \n",
       "\n",
       "[1 rows x 98 columns]"
      ]
     },
     "execution_count": 17,
     "metadata": {},
     "output_type": "execute_result"
    }
   ],
   "source": [
    "# keys of mapping dict are xpaths that enable selection of particular data points in xml file\n",
    "# Pandas dataframe is shown here for convinience\n",
    "df.select(list(mapping)).toPandas()"
   ]
  },
  {
   "cell_type": "markdown",
   "id": "bb02e220-cb8c-48fb-9f68-f0a5b25f698b",
   "metadata": {},
   "source": [
    "### We can freely shuffle the xpaths list and create multiple tables that are easier to use\n",
    "- UUID will act as a key between the tables\n",
    "- we can split the data between main tags Naglowek and Dane into two separate tables"
   ]
  },
  {
   "cell_type": "code",
   "execution_count": 23,
   "id": "f7a1b23a-b625-48d5-93a6-b0b65f25b506",
   "metadata": {},
   "outputs": [],
   "source": [
    "new_uuid = str(uuid.uuid4())\n",
    "naglowek_xpaths = [key for key in mapping if \"Naglowek\" in key]\n",
    "dane_xpaths = [key for key in mapping if \"Dane\" in key]\n"
   ]
  },
  {
   "cell_type": "code",
   "execution_count": 26,
   "id": "9ac51b44-0d1b-4981-9c90-ca74d82ecaa0",
   "metadata": {},
   "outputs": [
    {
     "data": {
      "text/html": [
       "<div>\n",
       "<style scoped>\n",
       "    .dataframe tbody tr th:only-of-type {\n",
       "        vertical-align: middle;\n",
       "    }\n",
       "\n",
       "    .dataframe tbody tr th {\n",
       "        vertical-align: top;\n",
       "    }\n",
       "\n",
       "    .dataframe thead th {\n",
       "        text-align: right;\n",
       "    }\n",
       "</style>\n",
       "<table border=\"1\" class=\"dataframe\">\n",
       "  <thead>\n",
       "    <tr style=\"text-align: right;\">\n",
       "      <th></th>\n",
       "      <th>IdentyfikatorZarzadzajacego</th>\n",
       "      <th>NazwaZarzadzajacego</th>\n",
       "      <th>IdentyfikatorDostawcyDanych</th>\n",
       "      <th>WalutaSprawozdania</th>\n",
       "      <th>DataOd</th>\n",
       "      <th>DataDo</th>\n",
       "      <th>Rok</th>\n",
       "      <th>Miesiac</th>\n",
       "      <th>CzyKorekta</th>\n",
       "      <th>_CzyFunduszWLikwidacji</th>\n",
       "      <th>key</th>\n",
       "    </tr>\n",
       "  </thead>\n",
       "  <tbody>\n",
       "    <tr>\n",
       "      <th>0</th>\n",
       "      <td>PLTFI000000</td>\n",
       "      <td>Nazwa zarządzającego</td>\n",
       "      <td>PLTFI000000</td>\n",
       "      <td>PLN</td>\n",
       "      <td>2024-01-01</td>\n",
       "      <td>2024-01-31</td>\n",
       "      <td>2024</td>\n",
       "      <td>01</td>\n",
       "      <td>False</td>\n",
       "      <td>None</td>\n",
       "      <td>7cae0036-620a-4313-908d-a7ab959f5af2</td>\n",
       "    </tr>\n",
       "  </tbody>\n",
       "</table>\n",
       "</div>"
      ],
      "text/plain": [
       "  IdentyfikatorZarzadzajacego   NazwaZarzadzajacego  \\\n",
       "0                 PLTFI000000  Nazwa zarządzającego   \n",
       "\n",
       "  IdentyfikatorDostawcyDanych WalutaSprawozdania      DataOd      DataDo  \\\n",
       "0                 PLTFI000000                PLN  2024-01-01  2024-01-31   \n",
       "\n",
       "    Rok Miesiac  CzyKorekta _CzyFunduszWLikwidacji  \\\n",
       "0  2024      01       False                   None   \n",
       "\n",
       "                                    key  \n",
       "0  7cae0036-620a-4313-908d-a7ab959f5af2  "
      ]
     },
     "execution_count": 26,
     "metadata": {},
     "output_type": "execute_result"
    }
   ],
   "source": [
    "df_naglowek = df.select(naglowek_xpaths).toPandas()\n",
    "df_naglowek[\"key\"] = new_uuid\n",
    "df_naglowek"
   ]
  },
  {
   "cell_type": "code",
   "execution_count": 29,
   "id": "23d192a0-a3d2-4dd1-b3cc-ae434a848fc0",
   "metadata": {},
   "outputs": [
    {
     "data": {
      "text/html": [
       "<div>\n",
       "<style scoped>\n",
       "    .dataframe tbody tr th:only-of-type {\n",
       "        vertical-align: middle;\n",
       "    }\n",
       "\n",
       "    .dataframe tbody tr th {\n",
       "        vertical-align: top;\n",
       "    }\n",
       "\n",
       "    .dataframe thead th {\n",
       "        text-align: right;\n",
       "    }\n",
       "</style>\n",
       "<table border=\"1\" class=\"dataframe\">\n",
       "  <thead>\n",
       "    <tr style=\"text-align: right;\">\n",
       "      <th></th>\n",
       "      <th>SrodkiPieniezne</th>\n",
       "      <th>PapieryWartoscioweSkarbPanstwaNBP</th>\n",
       "      <th>Nieprzeterminowane</th>\n",
       "      <th>PrzeterminowaneDo30Dni</th>\n",
       "      <th>PrzeterminowaneOd31Do90Dni</th>\n",
       "      <th>PrzeterminowaneOd91Do180Dni</th>\n",
       "      <th>PrzeterminowaneOd181Do360Dni</th>\n",
       "      <th>PrzeterminowanePowyzej360Dni</th>\n",
       "      <th>_FunduszeInwestycyjneOgolem</th>\n",
       "      <th>Nieprzeterminowane</th>\n",
       "      <th>...</th>\n",
       "      <th>AktywaZarzadzanychFunduszyZagranicznych</th>\n",
       "      <th>AktywaZarzadzanychUnijnychAFI</th>\n",
       "      <th>AktywaZarzadzanychZbiorczychPortfeliPapierowWartosciowych</th>\n",
       "      <th>InwestycjeWlasneJUCI</th>\n",
       "      <th>_AktywaZarzadzanychPortfeliInstrumentyFinansoweOgolem</th>\n",
       "      <th>AktywaFunduszyWLikwidacji</th>\n",
       "      <th>DataPortfeliZarzadzanychAFI</th>\n",
       "      <th>_PortfeleZarzadzanychAFIOgolem</th>\n",
       "      <th>_ZarzadzaneAktywa</th>\n",
       "      <th>key</th>\n",
       "    </tr>\n",
       "  </thead>\n",
       "  <tbody>\n",
       "    <tr>\n",
       "      <th>0</th>\n",
       "      <td>1.645629e+08</td>\n",
       "      <td>167417620.2</td>\n",
       "      <td>30297248.11</td>\n",
       "      <td>0.0</td>\n",
       "      <td>0.0</td>\n",
       "      <td>0.0</td>\n",
       "      <td>0.0</td>\n",
       "      <td>0.0</td>\n",
       "      <td>30297248.1</td>\n",
       "      <td>1890892.08</td>\n",
       "      <td>...</td>\n",
       "      <td>0.0</td>\n",
       "      <td>0.0</td>\n",
       "      <td>0.0</td>\n",
       "      <td>0.0</td>\n",
       "      <td>0.0</td>\n",
       "      <td>0.0</td>\n",
       "      <td>2023-06-30</td>\n",
       "      <td>100000.0</td>\n",
       "      <td>4069231027.26</td>\n",
       "      <td>7cae0036-620a-4313-908d-a7ab959f5af2</td>\n",
       "    </tr>\n",
       "  </tbody>\n",
       "</table>\n",
       "<p>1 rows × 89 columns</p>\n",
       "</div>"
      ],
      "text/plain": [
       "   SrodkiPieniezne  PapieryWartoscioweSkarbPanstwaNBP  Nieprzeterminowane  \\\n",
       "0     1.645629e+08                        167417620.2         30297248.11   \n",
       "\n",
       "   PrzeterminowaneDo30Dni  PrzeterminowaneOd31Do90Dni  \\\n",
       "0                     0.0                         0.0   \n",
       "\n",
       "   PrzeterminowaneOd91Do180Dni  PrzeterminowaneOd181Do360Dni  \\\n",
       "0                          0.0                           0.0   \n",
       "\n",
       "   PrzeterminowanePowyzej360Dni  _FunduszeInwestycyjneOgolem  \\\n",
       "0                           0.0                   30297248.1   \n",
       "\n",
       "   Nieprzeterminowane  ...  AktywaZarzadzanychFunduszyZagranicznych  \\\n",
       "0          1890892.08  ...                                      0.0   \n",
       "\n",
       "   AktywaZarzadzanychUnijnychAFI  \\\n",
       "0                            0.0   \n",
       "\n",
       "   AktywaZarzadzanychZbiorczychPortfeliPapierowWartosciowych  \\\n",
       "0                                                0.0           \n",
       "\n",
       "   InwestycjeWlasneJUCI  \\\n",
       "0                   0.0   \n",
       "\n",
       "   _AktywaZarzadzanychPortfeliInstrumentyFinansoweOgolem  \\\n",
       "0                                                0.0       \n",
       "\n",
       "   AktywaFunduszyWLikwidacji  DataPortfeliZarzadzanychAFI  \\\n",
       "0                        0.0                   2023-06-30   \n",
       "\n",
       "   _PortfeleZarzadzanychAFIOgolem  _ZarzadzaneAktywa  \\\n",
       "0                        100000.0      4069231027.26   \n",
       "\n",
       "                                    key  \n",
       "0  7cae0036-620a-4313-908d-a7ab959f5af2  \n",
       "\n",
       "[1 rows x 89 columns]"
      ]
     },
     "execution_count": 29,
     "metadata": {},
     "output_type": "execute_result"
    }
   ],
   "source": [
    "df_dane = df.select(dane_xpaths).toPandas()\n",
    "df_dane[\"key\"] = new_uuid\n",
    "df_dane"
   ]
  },
  {
   "cell_type": "code",
   "execution_count": null,
   "id": "5bb40797-85eb-4746-aae6-b859ea4be2f2",
   "metadata": {},
   "outputs": [],
   "source": []
  }
 ],
 "metadata": {
  "kernelspec": {
   "display_name": "Python 3 (ipykernel)",
   "language": "python",
   "name": "python3"
  },
  "language_info": {
   "codemirror_mode": {
    "name": "ipython",
    "version": 3
   },
   "file_extension": ".py",
   "mimetype": "text/x-python",
   "name": "python",
   "nbconvert_exporter": "python",
   "pygments_lexer": "ipython3",
   "version": "3.10.9"
  }
 },
 "nbformat": 4,
 "nbformat_minor": 5
}
